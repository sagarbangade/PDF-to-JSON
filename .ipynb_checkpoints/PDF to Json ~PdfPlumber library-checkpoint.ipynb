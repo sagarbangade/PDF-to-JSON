{
 "cells": [
  {
   "cell_type": "code",
   "execution_count": null,
   "id": "97d25791",
   "metadata": {},
   "outputs": [],
   "source": [
    "# path\n",
    "\n",
    "path = \"pART 2.pdf\""
   ]
  },
  {
   "cell_type": "code",
   "execution_count": null,
   "id": "8a665c14",
   "metadata": {},
   "outputs": [],
   "source": [
    "#Searching for largest font size from middle of pdf to next 10% pages "
   ]
  },
  {
   "cell_type": "code",
   "execution_count": null,
   "id": "24bc31e4",
   "metadata": {},
   "outputs": [],
   "source": [
    "import pdfplumber\n",
    "\n",
    "path = 'Sachine.pdf'\n",
    "\n",
    "def is_digit(char):\n",
    "    return char.isdigit()\n",
    "\n",
    "def extract_font_info(page):\n",
    "    max_font_size = 0  \n",
    "\n",
    "    for element in page.chars:\n",
    "        current_char = element['text']\n",
    "\n",
    "        # Skip digit characters\n",
    "        if is_digit(current_char):\n",
    "            continue\n",
    "\n",
    "        current_font_size = element['size']\n",
    "\n",
    "        \n",
    "        if current_font_size > max_font_size:\n",
    "            max_font_size = current_font_size\n",
    "\n",
    "    return max_font_size\n",
    "\n",
    "with pdfplumber.open(path) as pdf:\n",
    "    total_pages = len(pdf.pages)\n",
    "    start_page = int(total_pages * 0.5)\n",
    "    end_page = int(total_pages * 0.6)\n",
    "\n",
    "    largest_font_size = 0  \n",
    "\n",
    "    for page_number in range(start_page, end_page):\n",
    "        page = pdf.pages[page_number]\n",
    "        current_page_max_font_size = extract_font_info(page)\n",
    "\n",
    "        if current_page_max_font_size > largest_font_size:\n",
    "            largest_font_size = current_page_max_font_size\n",
    "\n",
    "    print(f\"Largest Font Size (excluding digits): {largest_font_size}\")"
   ]
  },
  {
   "cell_type": "code",
   "execution_count": null,
   "id": "29611f6d",
   "metadata": {},
   "outputs": [],
   "source": [
    "#extracting data into json from entire pdf"
   ]
  },
  {
   "cell_type": "code",
   "execution_count": null,
   "id": "934d7aad",
   "metadata": {},
   "outputs": [],
   "source": [
    "import pdfplumber\n",
    "import json\n",
    "\n",
    "def extract_text_from_pdf(path, largest_font_size):\n",
    "    temp_pdf = []\n",
    "    temp_dict = {\"title\": \"\", \"data\": \"\"}\n",
    "\n",
    "    with pdfplumber.open(path) as pdf:\n",
    "        for page_number, page in enumerate(pdf.pages):\n",
    "            temp_title, page_data = extract_page_data(page.chars, largest_font_size)\n",
    "\n",
    "            # Include content from pages without any text larger than largest_font_size\n",
    "            if temp_title:\n",
    "                if len(temp_dict[\"data\"]) > 0:\n",
    "                    temp_pdf.append(temp_dict)\n",
    "                temp_dict = {\"title\": temp_title, \"data\": page_data}\n",
    "            else:\n",
    "                temp_dict[\"data\"] += page_data\n",
    "\n",
    "        # Append any remaining content after the loop\n",
    "        if len(temp_dict[\"data\"]) > 0:\n",
    "            temp_pdf.append(temp_dict)\n",
    "\n",
    "    return temp_pdf\n",
    "\n",
    "def extract_page_data(chars, largest_font_size):\n",
    "    temp_title = \"\"\n",
    "    page_data = \"\"\n",
    "\n",
    "    for span in chars:\n",
    "        if span['size'] >= largest_font_size:\n",
    "            temp_title += span['text']\n",
    "        else:\n",
    "            page_data += span['text']\n",
    "\n",
    "    return temp_title, page_data\n",
    "\n",
    "def main():\n",
    "    \n",
    "    temp_pdf = extract_text_from_pdf(path, largest_font_size)\n",
    "\n",
    "    with open(\"pART2.json\", \"w\") as out_file:\n",
    "        json.dump(temp_pdf, out_file, indent=6)\n",
    "\n",
    "if __name__ == \"__main__\":\n",
    "    main()\n"
   ]
  }
 ],
 "metadata": {
  "kernelspec": {
   "display_name": "Python 3 (ipykernel)",
   "language": "python",
   "name": "python3"
  },
  "language_info": {
   "codemirror_mode": {
    "name": "ipython",
    "version": 3
   },
   "file_extension": ".py",
   "mimetype": "text/x-python",
   "name": "python",
   "nbconvert_exporter": "python",
   "pygments_lexer": "ipython3",
   "version": "3.11.5"
  }
 },
 "nbformat": 4,
 "nbformat_minor": 5
}
